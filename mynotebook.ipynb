{
 "cells": [
  {
   "cell_type": "code",
   "execution_count": 1,
   "metadata": {},
   "outputs": [
    {
     "name": "stdout",
     "output_type": "stream",
     "text": [
      "{'courseDay': 0, 'dateTypes': {'module': 'Module 1: Frontend Basics', 'general': {'type': 'general', 'preClass': {}, 'inClass': {'items': [{'name': 'Day 1 Photo!', 'url': ''}, {'name': 'Course and Student Introductions', 'url': ''}]}, 'postClass': {}, 'dayIndex': 0}, 'css': {'type': 'css', 'preClass': {}, 'inClass': {}, 'postClass': {}}, 'algos': {'type': 'algos', 'preClass': {}, 'inClass': {}, 'postClass': {}}, 'ux': {'type': 'ux', 'preClass': {}, 'inClass': {}, 'postClass': {}}, 'ip': {'type': 'ip', 'ipDue': {}, 'preClass': {}, 'inClass': {}, 'postClass': {}}, 'projects': {'type': 'projects', 'projectStart': {}, 'projectDue': {}, 'preClass': {}, 'inClass': {}, 'postClass': {}}}}\n"
     ]
    }
   ],
   "source": [
    "import json\n",
    "\n",
    "# bootcamp_days = json.load(fp=open('assets/data/bootcamp-course-days.json','r'))\n",
    "bootcamp_days = json.load(fp=open('assets/data/ptbc-course-days.json','r'))\n",
    "# print(bootcamp_days['daysOfWeek'])\n",
    "print(bootcamp_days['days'][0])\n",
    "\n",
    "\n"
   ]
  },
  {
   "cell_type": "code",
   "execution_count": 2,
   "metadata": {},
   "outputs": [],
   "source": [
    "def deconstructDays(days):\n",
    "\n",
    "    general = []\n",
    "    css = []\n",
    "    algos = []\n",
    "    ux = []\n",
    "    ip = []\n",
    "    projects = []\n",
    "\n",
    "    items = [general, css, algos, ux, ip, projects]\n",
    "\n",
    "    def append_if_not_empty(list, course_day, i):\n",
    "        \n",
    "        if course_day[\"preClass\"] != {} or course_day[\"inClass\"] != {} or course_day['postClass'] != {}:\n",
    "            course_day['dayIndex'] = i\n",
    "            list.append(course_day)\n",
    "\n",
    "    for i in range(len(days)):\n",
    "        day = days[i]\n",
    "        # print(day['courseDay'])\n",
    "        # general.append(day['dateTypes']['general'])\n",
    "        append_if_not_empty(general, day['dateTypes']['general'],i)\n",
    "        append_if_not_empty(css,day['dateTypes']['css'],i)\n",
    "        append_if_not_empty(algos, day['dateTypes']['algos'],i)\n",
    "        append_if_not_empty(ux,day['dateTypes']['ux'],i)\n",
    "        append_if_not_empty(ip,day['dateTypes']['ip'],i)\n",
    "        append_if_not_empty(projects,day['dateTypes']['projects'],i)\n",
    "    \n",
    "    return items\n",
    "\n",
    "def saveItems(items):\n",
    "\n",
    "    [general, css, algos, ux, ip, projects] = items  \n",
    "    \n",
    "    # save data in separate json files\n",
    "    json.dump(general ,fp=open('assets/data/general.json', 'w'))\n",
    "    json.dump(css ,fp=open('assets/data/css.json', 'w'))\n",
    "    json.dump(algos ,fp=open('assets/data/algos.json', 'w'))\n",
    "    json.dump(ux ,fp=open('assets/data/ux.json', 'w'))\n",
    "    json.dump(ip ,fp=open('assets/data/ip.json', 'w'))\n",
    "    json.dump(projects ,fp=open('assets/data/projects.json', 'w'))\n",
    "\n",
    "def printItems(items):\n",
    "    \n",
    "    for item in items:\n",
    "        if len(item) > 0:\n",
    "            print('\\t', item[0]['type'], 'has', len(item),'lesson days')"
   ]
  },
  {
   "cell_type": "code",
   "execution_count": 3,
   "metadata": {},
   "outputs": [],
   "source": [
    "# saveItems(deconstructDays(bootcamp_days['days']))"
   ]
  },
  {
   "cell_type": "code",
   "execution_count": 6,
   "metadata": {},
   "outputs": [
    {
     "name": "stdout",
     "output_type": "stream",
     "text": [
      "\t total days: 97\n",
      "\t general has 66 lesson days\n",
      "\t css has 20 lesson days\n",
      "\t algos has 39 lesson days\n",
      "\t ux has 2 lesson days\n",
      "\t ip has 6 lesson days\n",
      "\t projects has 61 lesson days\n"
     ]
    }
   ],
   "source": [
    "print('\\t','total days:', len(bootcamp_days['days']))\n",
    "printItems(deconstructDays(bootcamp_days['days']))"
   ]
  },
  {
   "cell_type": "code",
   "execution_count": 7,
   "metadata": {},
   "outputs": [
    {
     "name": "stdout",
     "output_type": "stream",
     "text": [
      "\t general has 56 lesson days\n",
      "\t css has 20 lesson days\n",
      "\t algos has 27 lesson days\n",
      "\t ux has 2 lesson days\n",
      "\t projects has 54 lesson days\n"
     ]
    }
   ],
   "source": [
    "bootcamp_core = bootcamp_days['days'][:80]\n",
    "printItems(deconstructDays(bootcamp_core))"
   ]
  },
  {
   "cell_type": "code",
   "execution_count": 7,
   "metadata": {},
   "outputs": [
    {
     "name": "stdout",
     "output_type": "stream",
     "text": [
      "Module 1: Frontend Basics 12\n",
      "Module 2: Backend Basics 7\n",
      "Module 3: Backend Applications 24\n",
      "Module 4: Backend Structure 4\n",
      "Module 5: Full Stack Application 4\n",
      "Module 6: Frontend Infrastructure 11\n",
      "Module 7: React 19\n",
      "Module 8: Advanced React 6\n",
      "Module 9: Advanced Topics 10\n"
     ]
    }
   ],
   "source": [
    "\n",
    "\n",
    "modules = {}\n",
    "current_module = ''\n",
    "\n",
    "\n",
    "for i in range(len(bootcamp_days['days'])):\n",
    "    day = bootcamp_days['days'][i]\n",
    "    module = day['dateTypes']['module']\n",
    "    if (current_module != module):\n",
    "        current_module = module\n",
    "        modules[current_module] = []\n",
    "    modules[current_module].append(day)\n",
    "    # print(day['courseDay'], ':', module)\n",
    "    \n",
    "for k,v in modules.items():\n",
    "    print(k, len(v))\n",
    "\n",
    "json.dump(modules, fp=open('ptbc_modules.json','w'))"
   ]
  },
  {
   "cell_type": "code",
   "execution_count": 8,
   "metadata": {},
   "outputs": [
    {
     "name": "stdout",
     "output_type": "stream",
     "text": [
      "12 course days \t\t:\t [Module 1: Frontend Basics]\n",
      "7 course days \t\t:\t [Module 2: Backend Basics]\n",
      "24 course days \t\t:\t [Module 3: Backend Applications]\n",
      "4 course days \t\t:\t [Module 4: Backend Structure]\n",
      "4 course days \t\t:\t [Module 5: Full Stack Application]\n",
      "11 course days \t\t:\t [Module 6: Frontend Infrastructure]\n",
      "19 course days \t\t:\t [Module 7: React]\n",
      "6 course days \t\t:\t [Module 8: Advanced React]\n",
      "10 course days \t\t:\t [Module 9: Advanced Topics]\n",
      "97 total course days\n"
     ]
    }
   ],
   "source": [
    "total = 0\n",
    "for k,v in modules.items():\n",
    "    total += len(v)\n",
    "    print(f'{len(v)} course days \\t\\t:\\t [{k}]')\n",
    "\n",
    "print(f'{total} total course days')"
   ]
  },
  {
   "cell_type": "code",
   "execution_count": 9,
   "metadata": {},
   "outputs": [
    {
     "name": "stdout",
     "output_type": "stream",
     "text": [
      "Module 1: Frontend Basics - [12] course days \n",
      "\t general has 8 lesson days\n",
      "\t css has 9 lesson days\n",
      "\t projects has 6 lesson days\n",
      "Module 2: Backend Basics - [7] course days \n",
      "\t general has 7 lesson days\n",
      "\t css has 5 lesson days\n",
      "Module 3: Backend Applications - [24] course days \n",
      "\t general has 17 lesson days\n",
      "\t css has 6 lesson days\n",
      "\t projects has 12 lesson days\n",
      "Module 4: Backend Structure - [4] course days \n",
      "\t general has 4 lesson days\n",
      "\t ux has 2 lesson days\n",
      "Module 5: Full Stack Application - [4] course days \n",
      "\t general has 4 lesson days\n",
      "\t algos has 2 lesson days\n",
      "Module 6: Frontend Infrastructure - [11] course days \n",
      "\t general has 6 lesson days\n",
      "\t algos has 11 lesson days\n",
      "\t projects has 11 lesson days\n",
      "Module 7: React - [19] course days \n",
      "\t general has 12 lesson days\n",
      "\t algos has 13 lesson days\n",
      "\t projects has 16 lesson days\n",
      "Module 8: Advanced React - [6] course days \n",
      "\t general has 6 lesson days\n",
      "\t algos has 5 lesson days\n",
      "\t ip has 1 lesson days\n",
      "\t projects has 6 lesson days\n",
      "Module 9: Advanced Topics - [10] course days \n",
      "\t general has 2 lesson days\n",
      "\t algos has 8 lesson days\n",
      "\t ip has 5 lesson days\n",
      "\t projects has 10 lesson days\n"
     ]
    }
   ],
   "source": [
    "for module,v in modules.items():\n",
    "    print(f'{module} - [{len(v)}] course days ')\n",
    "    printItems(deconstructDays(v))"
   ]
  }
 ],
 "metadata": {
  "interpreter": {
   "hash": "aee8b7b246df8f9039afb4144a1f6fd8d2ca17a180786b69acc140d282b71a49"
  },
  "kernelspec": {
   "display_name": "Python 3.9.7 64-bit",
   "name": "python3"
  },
  "language_info": {
   "codemirror_mode": {
    "name": "ipython",
    "version": 3
   },
   "file_extension": ".py",
   "mimetype": "text/x-python",
   "name": "python",
   "nbconvert_exporter": "python",
   "pygments_lexer": "ipython3",
   "version": "3.9.7"
  },
  "orig_nbformat": 4
 },
 "nbformat": 4,
 "nbformat_minor": 2
}
